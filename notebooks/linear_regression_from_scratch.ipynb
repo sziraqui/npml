{
 "cells": [
  {
   "cell_type": "markdown",
   "metadata": {},
   "source": [
    "# Linear Regression from scratch\n",
    "Implementing linear regression using only numpy"
   ]
  },
  {
   "cell_type": "code",
   "execution_count": 1,
   "metadata": {},
   "outputs": [],
   "source": [
    "import numpy as np\n",
    "import pandas as pd\n",
    "import seaborn as sb\n",
    "np.random.seed(0)"
   ]
  },
  {
   "cell_type": "markdown",
   "metadata": {},
   "source": [
    "## Cost function and its derivative\n",
    "Cost represents a cost function of the form `y = b + w1*x1 + w2*x2 ... wn*xn`  \n",
    "But to vectorize the computation, we take X as the whole training sample  \n",
    "One row in X has one row of dataset.  \n",
    "Last column of each row is set to 1 to account for bias"
   ]
  },
  {
   "cell_type": "code",
   "execution_count": 2,
   "metadata": {},
   "outputs": [],
   "source": [
    "class Cost:\n",
    "    \n",
    "    def __init__(self, X_train):\n",
    "        # Make X as [X 1] for vectorization\n",
    "        self.rows = X_train.shape[0]\n",
    "        self.cols = X_train.shape[1] + 1\n",
    "        self.X = np.concatenate([np.ones((self.rows, 1)), X_train], axis=1)\n",
    "        #print(f\"X shape: {self.X.shape}\")\n",
    "        #print(f\"Y self: {self.Y.shape}\")\n",
    "    \n",
    "    \n",
    "    def compute(self, W):\n",
    "        assert W.shape == (1, self.cols)\n",
    "        # y_hat = SUM(wi*xi)\n",
    "        # For whole train data, we do element-wise multiplication\n",
    "        # W is implicitly broadcasted to match X shape\n",
    "        # Summation over column axis computes the value of cost function for each data sample\n",
    "        Y_hat = (self.X * W).sum(axis=1).reshape((1, self.rows))\n",
    "        #print(f\"Y_hat shape: {Y_hat.shape}\")\n",
    "        return Y_hat\n",
    "    \n",
    "    \n",
    "    def derivative(self, Y, W):\n",
    "        assert W.shape == (1, self.cols)\n",
    "        assert Y.shape == (1, self.rows)\n",
    "        # (1/N) * 2*xi*(yi - (wi*xi))\n",
    "        WX = (self.X * self.X * W).T\n",
    "        #print(f\"WX shape: {WX.shape}\")\n",
    "        XY = Y * self.X.T\n",
    "        #print(f\"XY shape: {XY.shape}\")\n",
    "        dY_wrt_dW = -2 * (XY - WX)\n",
    "        #print(f\"XY-WX shape: {dY_wrt_dW.shape}\")\n",
    "        dY_wrt_dW = dY_wrt_dW.sum(axis=1).reshape((1, self.cols)) / self.rows\n",
    "        #print(f\"dW shape: {dY_wrt_dW.shape}\")\n",
    "        return dY_wrt_dW\n",
    "        "
   ]
  },
  {
   "cell_type": "markdown",
   "metadata": {},
   "source": [
    "## Gradient Descent\n",
    "A generalized gradient descent that takes a Cost and updates weights using cost.derivative()  \n",
    "Weights are initialized to random values"
   ]
  },
  {
   "cell_type": "code",
   "execution_count": 3,
   "metadata": {},
   "outputs": [],
   "source": [
    "class GradientDescent:\n",
    "    \n",
    "    def __init__(self, learning_rate=1e-6, epochs=2, log_interval=1, save_data=False):\n",
    "        self.alpha = learning_rate\n",
    "        self.epochs = epochs\n",
    "        self.log_interval = log_interval\n",
    "        self.save_data = save_data\n",
    "    \n",
    "    \n",
    "    def update_weights(self, cost, Y, W):\n",
    "        W = W - self.alpha * cost.derivative(Y, W)\n",
    "        return W\n",
    "    \n",
    "    def optimize(self, cost, Y):\n",
    "        W = np.random.randn(cost.cols).reshape((1, cost.cols))\n",
    "        if self.save_data:\n",
    "            self.costs = []\n",
    "            self.losses = []\n",
    "            self.weights = []\n",
    "        for i in range(self.epochs):\n",
    "                W = self.update_weights(cost, Y, W)\n",
    "                if self.save_data:\n",
    "                    Y_hat = cost.compute(W)\n",
    "                    self.costs.append(Y_hat)\n",
    "                    self.losses.append(self.loss(Y, Y_hat))\n",
    "                    self.weights.append(W)\n",
    "        return W\n",
    "    \n",
    "         \n",
    "    def loss(self, Y, Y_hat):\n",
    "        sq_diff = (Y - Y_hat) * (Y - Y_hat)\n",
    "        l = sq_diff.mean()**0.5\n",
    "        return l\n",
    "    "
   ]
  },
  {
   "cell_type": "markdown",
   "metadata": {},
   "source": [
    "## Multi-variate Linear Regression\n",
    "A generalized implementation of linear regression with any arbitrary Cost"
   ]
  },
  {
   "cell_type": "code",
   "execution_count": 4,
   "metadata": {},
   "outputs": [],
   "source": [
    "class MyLinearRegression:\n",
    "    \n",
    "    def __init__(self, CostFunc=Cost, normalize=False):\n",
    "        self.Cost = CostFunc\n",
    "        self.normalize = normalize\n",
    "        self.optimizer = None\n",
    "        self.mu = None\n",
    "        self.div = None\n",
    "        \n",
    "        \n",
    "    def set_optimizer(self, optimizer):\n",
    "        self.optimizer = optimizer\n",
    "    \n",
    "      \n",
    "    def train(self, X_train, Y_train, logInterval=1):\n",
    "        assert self.optimizer != None\n",
    "        \n",
    "        if self.normalize:\n",
    "            self.compute_normalization_params(X_train)\n",
    "            X_train = self.perform_normalization(X_train)\n",
    "            \n",
    "        cost = self.Cost(X_train)\n",
    "        Y_train = Y_train.reshape((1, cost.rows))\n",
    "                \n",
    "        self.W = self.optimizer.optimize(cost, Y_train)\n",
    "    \n",
    "    \n",
    "    def compute_normalization_params(self, X):\n",
    "        self.mu = X.mean(axis=0)\n",
    "        self.div = X.shape[0]\n",
    "        X = (X - self.mu) / self.div\n",
    "        return X\n",
    "    \n",
    "    \n",
    "    def perform_normalization(self, X):\n",
    "        X = (X - self.mu) / self.div\n",
    "        return X\n",
    "    \n",
    "    \n",
    "    def test(self, X_test, Y_test):\n",
    "        if self.normalize:\n",
    "            X_test = self.perform_normalization(X_test)\n",
    "        c = self.Cost(X_test)\n",
    "        Y_hat = c.compute(self.W)\n",
    "        l = self.optimizer.loss(Y_test, Y_hat)\n",
    "        return l\n",
    "    \n",
    "    \n",
    "    def predict(self, x):\n",
    "        if self.normalize:\n",
    "            x = self.perform_normalization(x)\n",
    "        y = self.Cost(np.array([x])).compute(self.W)[0,0]\n",
    "        return y\n",
    "        \n",
    "    \n",
    "    def getWeights():\n",
    "        return self.W\n",
    "    "
   ]
  },
  {
   "cell_type": "markdown",
   "metadata": {},
   "source": [
    "## K-fold cross validation\n",
    "Helper class for performing k-fold cross validation given any model"
   ]
  },
  {
   "cell_type": "code",
   "execution_count": 5,
   "metadata": {},
   "outputs": [],
   "source": [
    "class CrossValidator:\n",
    "    \n",
    "    def __init__(self, k=5):\n",
    "        self.k = k\n",
    "    \n",
    "    \n",
    "    def shuffle_together(self, X, Y, seed=-1):\n",
    "        # Source: https://stackoverflow.com/a/51526109/6699069\n",
    "        if seed < 0:\n",
    "            seed = np.random.randint(0, 2**(32 - 1) - 1)\n",
    "        rstate = np.random.RandomState(seed)\n",
    "        rstate.shuffle(X)\n",
    "        rstate = np.random.RandomState(seed)\n",
    "        rstate.shuffle(Y)\n",
    "        \n",
    "    def k_split(self, X, Y):\n",
    "        folds = []\n",
    "        fold_size = int(np.ceil(X.shape[0]/self.k))\n",
    "        print(f\"Creating {self.k} folds of {fold_size} samples in each\")\n",
    "        for start in range(0, X.shape[0], fold_size):\n",
    "            folds.append([X[start:start+fold_size],\n",
    "                          Y[start:start+fold_size]])\n",
    "        assert len(folds) == self.k\n",
    "        return folds\n",
    "    \n",
    "    def validate(self, X, Y, model, shuffle_seed=-1):\n",
    "        self.shuffle_together(X, Y, shuffle_seed)\n",
    "        folds = self.k_split(X, Y)\n",
    "        loss = []\n",
    "        for i in range(self.k):\n",
    "            # Pick k-1 folds for training\n",
    "            X_train = np.concatenate([f[0] for k, f in enumerate(folds) if k!=i], axis=0)\n",
    "            Y_train = np.concatenate([f[1] for k, f in enumerate(folds) if k!=i], axis=0)\n",
    "            # Pick i-th fold for testing\n",
    "            X_test = folds[i][0]\n",
    "            Y_test = folds[i][1]\n",
    "            print(f\"Training on all folds except fold[{i}]\")\n",
    "            # Train on k-1 folds\n",
    "            model.train(X_train, Y_train)\n",
    "            # Test on i-th fold\n",
    "            l = model.test(X_test, Y_test)\n",
    "            print(f\"Test loss = {l:.4f}\")\n",
    "            loss.append(l)\n",
    "        cv_loss = np.array(loss).mean()\n",
    "        print(f\"Average test loss: {cv_loss:.4f}\")\n",
    "        return cv_loss\n",
    "        "
   ]
  },
  {
   "cell_type": "markdown",
   "metadata": {},
   "source": [
    "## Setup data"
   ]
  },
  {
   "cell_type": "code",
   "execution_count": 6,
   "metadata": {},
   "outputs": [
    {
     "data": {
      "text/html": [
       "<div>\n",
       "<style scoped>\n",
       "    .dataframe tbody tr th:only-of-type {\n",
       "        vertical-align: middle;\n",
       "    }\n",
       "\n",
       "    .dataframe tbody tr th {\n",
       "        vertical-align: top;\n",
       "    }\n",
       "\n",
       "    .dataframe thead th {\n",
       "        text-align: right;\n",
       "    }\n",
       "</style>\n",
       "<table border=\"1\" class=\"dataframe\">\n",
       "  <thead>\n",
       "    <tr style=\"text-align: right;\">\n",
       "      <th></th>\n",
       "      <th>Rank</th>\n",
       "      <th>Sem 1</th>\n",
       "      <th>Sem 2</th>\n",
       "      <th>Sem 3</th>\n",
       "      <th>Sem 4</th>\n",
       "      <th>Sem 5</th>\n",
       "      <th>Sem 6</th>\n",
       "      <th>Sem 7</th>\n",
       "      <th>Travel</th>\n",
       "      <th>Hobby</th>\n",
       "      <th>Study</th>\n",
       "      <th>Room</th>\n",
       "      <th>comp_exam</th>\n",
       "      <th>High_studies</th>\n",
       "      <th>placement</th>\n",
       "      <th>extra_curr</th>\n",
       "      <th>JEE</th>\n",
       "    </tr>\n",
       "  </thead>\n",
       "  <tbody>\n",
       "    <tr>\n",
       "      <th>0</th>\n",
       "      <td>1</td>\n",
       "      <td>9.51</td>\n",
       "      <td>9.09</td>\n",
       "      <td>9.00</td>\n",
       "      <td>10.00</td>\n",
       "      <td>9.87</td>\n",
       "      <td>9.58</td>\n",
       "      <td>9.09</td>\n",
       "      <td>39</td>\n",
       "      <td>0</td>\n",
       "      <td>5</td>\n",
       "      <td>0</td>\n",
       "      <td>1</td>\n",
       "      <td>1</td>\n",
       "      <td>1</td>\n",
       "      <td>0</td>\n",
       "      <td>62</td>\n",
       "    </tr>\n",
       "    <tr>\n",
       "      <th>1</th>\n",
       "      <td>2</td>\n",
       "      <td>9.30</td>\n",
       "      <td>9.13</td>\n",
       "      <td>9.00</td>\n",
       "      <td>9.67</td>\n",
       "      <td>9.48</td>\n",
       "      <td>9.50</td>\n",
       "      <td>9.13</td>\n",
       "      <td>121</td>\n",
       "      <td>0</td>\n",
       "      <td>6</td>\n",
       "      <td>1</td>\n",
       "      <td>1</td>\n",
       "      <td>0</td>\n",
       "      <td>0</td>\n",
       "      <td>1</td>\n",
       "      <td>65</td>\n",
       "    </tr>\n",
       "    <tr>\n",
       "      <th>2</th>\n",
       "      <td>3</td>\n",
       "      <td>9.28</td>\n",
       "      <td>9.09</td>\n",
       "      <td>8.95</td>\n",
       "      <td>9.86</td>\n",
       "      <td>9.57</td>\n",
       "      <td>9.15</td>\n",
       "      <td>9.09</td>\n",
       "      <td>3</td>\n",
       "      <td>0</td>\n",
       "      <td>6</td>\n",
       "      <td>1</td>\n",
       "      <td>0</td>\n",
       "      <td>1</td>\n",
       "      <td>1</td>\n",
       "      <td>0</td>\n",
       "      <td>32</td>\n",
       "    </tr>\n",
       "    <tr>\n",
       "      <th>3</th>\n",
       "      <td>4</td>\n",
       "      <td>9.24</td>\n",
       "      <td>8.91</td>\n",
       "      <td>9.00</td>\n",
       "      <td>9.71</td>\n",
       "      <td>9.35</td>\n",
       "      <td>9.31</td>\n",
       "      <td>8.91</td>\n",
       "      <td>61</td>\n",
       "      <td>1</td>\n",
       "      <td>1</td>\n",
       "      <td>0</td>\n",
       "      <td>1</td>\n",
       "      <td>1</td>\n",
       "      <td>0</td>\n",
       "      <td>1</td>\n",
       "      <td>98</td>\n",
       "    </tr>\n",
       "    <tr>\n",
       "      <th>4</th>\n",
       "      <td>5</td>\n",
       "      <td>9.21</td>\n",
       "      <td>9.09</td>\n",
       "      <td>8.91</td>\n",
       "      <td>9.71</td>\n",
       "      <td>9.61</td>\n",
       "      <td>9.23</td>\n",
       "      <td>9.09</td>\n",
       "      <td>77</td>\n",
       "      <td>1</td>\n",
       "      <td>0</td>\n",
       "      <td>1</td>\n",
       "      <td>1</td>\n",
       "      <td>0</td>\n",
       "      <td>0</td>\n",
       "      <td>0</td>\n",
       "      <td>57</td>\n",
       "    </tr>\n",
       "  </tbody>\n",
       "</table>\n",
       "</div>"
      ],
      "text/plain": [
       "   Rank  Sem 1  Sem 2  Sem 3  Sem 4  Sem 5  Sem 6  Sem 7  Travel  Hobby  \\\n",
       "0     1   9.51   9.09   9.00  10.00   9.87   9.58   9.09      39      0   \n",
       "1     2   9.30   9.13   9.00   9.67   9.48   9.50   9.13     121      0   \n",
       "2     3   9.28   9.09   8.95   9.86   9.57   9.15   9.09       3      0   \n",
       "3     4   9.24   8.91   9.00   9.71   9.35   9.31   8.91      61      1   \n",
       "4     5   9.21   9.09   8.91   9.71   9.61   9.23   9.09      77      1   \n",
       "\n",
       "   Study  Room  comp_exam  High_studies  placement  extra_curr  JEE  \n",
       "0      5     0          1             1          1           0   62  \n",
       "1      6     1          1             0          0           1   65  \n",
       "2      6     1          0             1          1           0   32  \n",
       "3      1     0          1             1          0           1   98  \n",
       "4      0     1          1             0          0           0   57  "
      ]
     },
     "execution_count": 6,
     "metadata": {},
     "output_type": "execute_result"
    }
   ],
   "source": [
    "df = pd.read_csv('../datasets/student_data.csv')\n",
    "df.head()"
   ]
  },
  {
   "cell_type": "code",
   "execution_count": 7,
   "metadata": {},
   "outputs": [],
   "source": [
    "features = ['Sem 1', 'Sem 2', 'Sem 3','Sem 4','Sem 5','Sem 6', 'JEE', 'Travel','Hobby','Study', 'Room', \\\n",
    "           'comp_exam', 'High_studies', 'placement', 'extra_curr']\n",
    "labels = ['Sem 7']"
   ]
  },
  {
   "cell_type": "markdown",
   "metadata": {},
   "source": [
    "## Visualization\n",
    "Visualize relationship between features and labels"
   ]
  },
  {
   "cell_type": "code",
   "execution_count": 8,
   "metadata": {},
   "outputs": [
    {
     "data": {
      "text/plain": [
       "<seaborn.axisgrid.PairGrid at 0x7f1ac4fea668>"
      ]
     },
     "execution_count": 8,
     "metadata": {},
     "output_type": "execute_result"
    },
    {
     "data": {
      "image/png": "[encoded data removed]",
      "text/plain": [
       "<Figure size 1080x180 with 6 Axes>"
      ]
     },
     "metadata": {
      "needs_background": "light"
     },
     "output_type": "display_data"
    }
   ],
   "source": [
    "sb.pairplot(df, x_vars=features[:6], y_vars=labels, palette='husl')"
   ]
  },
  {
   "cell_type": "code",
   "execution_count": 9,
   "metadata": {},
   "outputs": [
    {
     "data": {
      "text/plain": [
       "<seaborn.axisgrid.PairGrid at 0x7f1ac4b18da0>"
      ]
     },
     "execution_count": 9,
     "metadata": {},
     "output_type": "execute_result"
    },
    {
     "data": {
      "image/png": "[encoded data removed]",
      "text/plain": [
       "<Figure size 1080x180 with 6 Axes>"
      ]
     },
     "metadata": {
      "needs_background": "light"
     },
     "output_type": "display_data"
    }
   ],
   "source": [
    "sb.pairplot(df, x_vars=features[6:12], y_vars=labels, palette='husl')"
   ]
  },
  {
   "cell_type": "code",
   "execution_count": 10,
   "metadata": {},
   "outputs": [
    {
     "data": {
      "text/plain": [
       "<seaborn.axisgrid.PairGrid at 0x7f1ac4951160>"
      ]
     },
     "execution_count": 10,
     "metadata": {},
     "output_type": "execute_result"
    },
    {
     "data": {
      "image/png": "[encoded data removed]",
      "text/plain": [
       "<Figure size 540x180 with 3 Axes>"
      ]
     },
     "metadata": {
      "needs_background": "light"
     },
     "output_type": "display_data"
    }
   ],
   "source": [
    "sb.pairplot(df, x_vars=features[12:], y_vars=labels, palette='husl')"
   ]
  },
  {
   "cell_type": "markdown",
   "metadata": {},
   "source": [
    "## Prepare data for train and test"
   ]
  },
  {
   "cell_type": "code",
   "execution_count": 11,
   "metadata": {},
   "outputs": [],
   "source": [
    "X = df[features].values # extract numpy array from DataFrame\n",
    "Y = df[labels].values"
   ]
  },
  {
   "cell_type": "code",
   "execution_count": 12,
   "metadata": {},
   "outputs": [],
   "source": [
    "def shuffle_and_split(A,B, ratio=0.5):\n",
    "    seed = np.random.randint(0, 2**(32 - 1) - 1)\n",
    "    rstate = np.random.RandomState(seed)\n",
    "    rstate.shuffle(A)\n",
    "    rstate = np.random.RandomState(seed)\n",
    "    rstate.shuffle(B)\n",
    "    pivot = int(np.ceil(A.shape[0]*ratio))\n",
    "    return A[:pivot], B[:pivot], A[pivot:], B[pivot:]"
   ]
  },
  {
   "cell_type": "code",
   "execution_count": 13,
   "metadata": {},
   "outputs": [],
   "source": [
    "np.random.seed(0)\n",
    "X_train, Y_train, X_test, Y_test = shuffle_and_split(X,Y, ratio=0.75)"
   ]
  },
  {
   "cell_type": "markdown",
   "metadata": {},
   "source": [
    "### Helpers for visualizing training"
   ]
  },
  {
   "cell_type": "code",
   "execution_count": 14,
   "metadata": {},
   "outputs": [],
   "source": [
    "def plot_loss(loss_list):\n",
    "    df = pd.DataFrame({'RMSE': loss_list, 'Epochs':list(range(len(loss_list)))})\n",
    "    return sb.lineplot(data=df, y='RMSE', x='Epochs', sort=False)"
   ]
  },
  {
   "cell_type": "markdown",
   "metadata": {},
   "source": [
    "## Training without normalization"
   ]
  },
  {
   "cell_type": "code",
   "execution_count": 15,
   "metadata": {},
   "outputs": [],
   "source": [
    "model = MyLinearRegression(Cost, normalize=False)\n",
    "grad_descent = GradientDescent(learning_rate=1e-4, epochs=1000, log_interval=100, save_data=True)\n",
    "model.set_optimizer(grad_descent)\n",
    "model.train(X_train, Y_train)"
   ]
  },
  {
   "cell_type": "code",
   "execution_count": 16,
   "metadata": {},
   "outputs": [
    {
     "data": {
      "text/plain": [
       "<matplotlib.axes._subplots.AxesSubplot at 0x7f1ac4856860>"
      ]
     },
     "execution_count": 16,
     "metadata": {},
     "output_type": "execute_result"
    },
    {
     "data": {
      "image/png": "[encoded data removed]",
      "text/plain": [
       "<Figure size 432x288 with 1 Axes>"
      ]
     },
     "metadata": {
      "needs_background": "light"
     },
     "output_type": "display_data"
    }
   ],
   "source": [
    "plot_loss(grad_descent.losses)"
   ]
  },
  {
   "cell_type": "markdown",
   "metadata": {},
   "source": [
    "Loss is huge. Gradient off-shoots even with a slow learning rate of 0.0001. If learning rate is increased further, loss will tend to infinity"
   ]
  },
  {
   "cell_type": "markdown",
   "metadata": {},
   "source": [
    "## Training with mean normalization\n",
    "All the above classes will be used now. Each class is made from scratch using only numpy."
   ]
  },
  {
   "cell_type": "code",
   "execution_count": 17,
   "metadata": {
    "scrolled": true
   },
   "outputs": [],
   "source": [
    "model = MyLinearRegression(Cost, normalize=True)\n",
    "grad_descent = GradientDescent(learning_rate=0.5, epochs=1000, log_interval=100, save_data=True)\n",
    "model.set_optimizer(grad_descent)\n",
    "model.train(X_train, Y_train)"
   ]
  },
  {
   "cell_type": "code",
   "execution_count": 18,
   "metadata": {},
   "outputs": [
    {
     "data": {
      "text/plain": [
       "<matplotlib.axes._subplots.AxesSubplot at 0x7f1ac4733780>"
      ]
     },
     "execution_count": 18,
     "metadata": {},
     "output_type": "execute_result"
    },
    {
     "data": {
      "image/png": "[encoded data removed]",
      "text/plain": [
       "<Figure size 432x288 with 1 Axes>"
      ]
     },
     "metadata": {
      "needs_background": "light"
     },
     "output_type": "display_data"
    }
   ],
   "source": [
    "plot_loss(grad_descent.losses)"
   ]
  },
  {
   "cell_type": "markdown",
   "metadata": {},
   "source": [
    "Successfull convergence even with fast learning rate of 0.5. We can expect increase in accuracy with more epochs"
   ]
  },
  {
   "cell_type": "code",
   "execution_count": 19,
   "metadata": {},
   "outputs": [
    {
     "name": "stdout",
     "output_type": "stream",
     "text": [
      "Train loss: 0.4833\n",
      "Test loss: 0.4012\n",
      "Prediction: 8.58\n",
      "Actual: 8.43\n"
     ]
    }
   ],
   "source": [
    "train_loss = model.test(X_train, Y_train)\n",
    "test_loss = model.test(X_test, Y_test)\n",
    "print(f'Train loss: {train_loss:.4f}\\nTest loss: {test_loss:.4f}')\n",
    "print(f\"Prediction: {model.predict(X_test[0]):.2f}\\nActual: {Y_test[0,0]}\")"
   ]
  },
  {
   "cell_type": "markdown",
   "metadata": {},
   "source": [
    "## Cross validation"
   ]
  },
  {
   "cell_type": "code",
   "execution_count": 20,
   "metadata": {},
   "outputs": [
    {
     "name": "stdout",
     "output_type": "stream",
     "text": [
      "Creating 4 folds of 18 samples in each\n",
      "Training on all folds except fold[0]\n",
      "Test loss = 0.3757\n",
      "Training on all folds except fold[1]\n",
      "Test loss = 0.4805\n",
      "Training on all folds except fold[2]\n",
      "Test loss = 0.5163\n",
      "Training on all folds except fold[3]\n",
      "Test loss = 0.4841\n",
      "Average test loss: 0.4642\n"
     ]
    },
    {
     "data": {
      "text/plain": [
       "0.4641696891376864"
      ]
     },
     "execution_count": 20,
     "metadata": {},
     "output_type": "execute_result"
    }
   ],
   "source": [
    "validator = CrossValidator(k=4)\n",
    "validator.validate(X, Y, model, shuffle_seed=0)"
   ]
  },
  {
   "cell_type": "code",
   "execution_count": null,
   "metadata": {},
   "outputs": [],
   "source": []
  }
 ],
 "metadata": {
  "kernelspec": {
   "display_name": "Python 3",
   "language": "python",
   "name": "python3"
  },
  "language_info": {
   "codemirror_mode": {
    "name": "ipython",
    "version": 3
   },
   "file_extension": ".py",
   "mimetype": "text/x-python",
   "name": "python",
   "nbconvert_exporter": "python",
   "pygments_lexer": "ipython3",
   "version": "3.7.2"
  }
 },
 "nbformat": 4,
 "nbformat_minor": 2
}
